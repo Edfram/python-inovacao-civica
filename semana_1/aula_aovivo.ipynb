{
  "cells": [
    {
      "cell_type": "markdown",
      "id": "32600998",
      "metadata": {
        "id": "32600998"
      },
      "source": [
        "# Exercício\n",
        "\n",
        "Construa um programa que:\n",
        " - Pergunte a usuária 2 números inteiros;\n",
        " - Crie uma lista numérica do intervalo;\n",
        " - Se o número for divisível por 3, substitua-o por \"Tecnologia\";\n",
        " - Se o número for divisível por 5, substitua-o por \"Cívica\";\n",
        " - Se o número for divisível por 3 e 5, substitua-o por \"Tecnologia Cívica\"."
      ]
    },
    {
      "cell_type": "code",
      "source": [
        "num1=int(input('Informe um umero inteiro:'))"
      ],
      "metadata": {
        "id": "eBnsbEJ3uFQt",
        "outputId": "91a2380b-8c61-4f8b-95ce-bed5562c7e08",
        "colab": {
          "base_uri": "https://localhost:8080/"
        }
      },
      "id": "eBnsbEJ3uFQt",
      "execution_count": 12,
      "outputs": [
        {
          "name": "stdout",
          "output_type": "stream",
          "text": [
            "Informe um umero inteiro:4\n"
          ]
        }
      ]
    },
    {
      "cell_type": "code",
      "source": [
        "num2=int(input('Informe um umero inteiro, maior que o anterior:'))"
      ],
      "metadata": {
        "id": "5lEUVubevi0M",
        "outputId": "1f33da2f-85e2-4c2a-ffe3-3b7c01a968a1",
        "colab": {
          "base_uri": "https://localhost:8080/"
        }
      },
      "id": "5lEUVubevi0M",
      "execution_count": 11,
      "outputs": [
        {
          "name": "stdout",
          "output_type": "stream",
          "text": [
            "Informe um umero inteiro, maior que o anterior:31\n"
          ]
        }
      ]
    },
    {
      "cell_type": "code",
      "source": [
        "lista1 = list(range(num1, num2))"
      ],
      "metadata": {
        "id": "G2uBPpBuvrn3"
      },
      "id": "G2uBPpBuvrn3",
      "execution_count": 15,
      "outputs": []
    },
    {
      "cell_type": "code",
      "source": [
        "lista_vazia = []"
      ],
      "metadata": {
        "id": "FhEf8n9UwF5T"
      },
      "id": "FhEf8n9UwF5T",
      "execution_count": 21,
      "outputs": []
    },
    {
      "cell_type": "code",
      "source": [
        "for item in lista1:\n",
        "  if item %3 == 0:\n",
        "    lista_vazia.append('Tecnologia')\n",
        "\n",
        "\n",
        "print(lista_vazia)"
      ],
      "metadata": {
        "id": "-oymA6M-xmcP",
        "outputId": "1ab5db1b-47ff-4c97-9a07-893bef66cdfa",
        "colab": {
          "base_uri": "https://localhost:8080/"
        }
      },
      "id": "-oymA6M-xmcP",
      "execution_count": 22,
      "outputs": [
        {
          "output_type": "stream",
          "name": "stdout",
          "text": [
            "['Tecnologia', 'Tecnologia', 'Tecnologia', 'Tecnologia', 'Tecnologia', 'Tecnologia', 'Tecnologia', 'Tecnologia', 'Tecnologia']\n"
          ]
        }
      ]
    }
  ],
  "metadata": {
    "kernelspec": {
      "display_name": "Python 3 (ipykernel)",
      "language": "python",
      "name": "python3"
    },
    "language_info": {
      "codemirror_mode": {
        "name": "ipython",
        "version": 3
      },
      "file_extension": ".py",
      "mimetype": "text/x-python",
      "name": "python",
      "nbconvert_exporter": "python",
      "pygments_lexer": "ipython3",
      "version": "3.10.6"
    },
    "colab": {
      "provenance": []
    }
  },
  "nbformat": 4,
  "nbformat_minor": 5
}